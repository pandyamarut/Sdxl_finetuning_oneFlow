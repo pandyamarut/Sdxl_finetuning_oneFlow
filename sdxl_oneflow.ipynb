{
 "cells": [
  {
   "cell_type": "code",
   "execution_count": null,
   "metadata": {},
   "outputs": [],
   "source": [
    "!python3 -m pip install \"torch\" \"transformers==4.27.1\" \"diffusers[torch]==0.19.3\"\n",
    "!python3 -m pip uninstall accelerate -y\n",
    "!python3 -m pip install -U onediff"
   ]
  },
  {
   "cell_type": "code",
   "execution_count": null,
   "metadata": {},
   "outputs": [],
   "source": [
    "!python3 -m pip install --pre oneflow -f https://oneflow-staging.oss-cn-beijing.aliyuncs.com/branch/master/cu117"
   ]
  },
  {
   "cell_type": "code",
   "execution_count": null,
   "metadata": {},
   "outputs": [],
   "source": [
    "!python3 -m pip install huggingface_hub"
   ]
  },
  {
   "cell_type": "code",
   "execution_count": null,
   "metadata": {},
   "outputs": [],
   "source": [
    "!huggingface-cli login --token"
   ]
  },
  {
   "cell_type": "code",
   "execution_count": null,
   "metadata": {},
   "outputs": [],
   "source": [
    "import torch\n",
    "# import oneflow as flow\n",
    "from pathlib import Path\n",
    "from onediff.infer_compiler import oneflow_compile\n",
    "from diffusers import StableDiffusionXLPipeline\n",
    "\n",
    "\n",
    "# Configuration\n",
    "pretrained_model_name_or_path = \"stabilityai/stable-diffusion-xl-base-1.0\" # Please replace with your model path\n",
    "prompt = \"A little white cat playing on the sea floor, the sun shining in, swimming some beautiful Colorful goldfish, bubbles，by Yang J, pixiv contest winner, furry art, falling star on the background, bubbly underwater scenery, the cutest kitten ever, beautiful avatar pictures\"\n",
    "saved_image = \"sdxl-base-out.png\"\n",
    "file_name = \"unet_compiled\"\n",
    "\n",
    "pipe = StableDiffusionXLPipeline.from_pretrained(\n",
    "    pretrained_model_name_or_path,\n",
    "    torch_dtype=torch.float16,\n",
    "    variant=\"fp16\",\n",
    "    use_safetensors=True,\n",
    ")\n",
    "pipe.to(\"cuda\")\n",
    "\n",
    "pipe.unet = oneflow_compile(pipe.unet)\n",
    "if Path(file_name).exists():\n",
    "    print(f\"Loading the compiled graph from {file_name}...\")\n",
    "    pipe.unet.warmup_with_load(file_name)\n",
    "\n",
    "\n",
    "image = pipe(prompt).images[0]\n",
    "print(f\"Saved the image to {saved_image}.\")\n",
    "image.save(saved_image)\n",
    "\n",
    "if not Path(file_name).exists():\n",
    "    pipe.unet.save_graph(file_name)\n",
    "    print(f\"Saved the compiled graph to {file_name}.\")\n"
   ]
  }
 ],
 "metadata": {
  "language_info": {
   "name": "python"
  },
  "orig_nbformat": 4
 },
 "nbformat": 4,
 "nbformat_minor": 2
}
